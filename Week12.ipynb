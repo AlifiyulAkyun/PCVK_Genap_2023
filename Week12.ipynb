{
  "nbformat": 4,
  "nbformat_minor": 0,
  "metadata": {
    "colab": {
      "provenance": [],
      "authorship_tag": "ABX9TyMIUX3/UUvgyP4yq4i215VK",
      "include_colab_link": true
    },
    "kernelspec": {
      "name": "python3",
      "display_name": "Python 3"
    },
    "language_info": {
      "name": "python"
    }
  },
  "cells": [
    {
      "cell_type": "markdown",
      "metadata": {
        "id": "view-in-github",
        "colab_type": "text"
      },
      "source": [
        "<a href=\"https://colab.research.google.com/github/AlifiyulAkyun/PCVK_Genap_2023/blob/main/Week12.ipynb\" target=\"_parent\"><img src=\"https://colab.research.google.com/assets/colab-badge.svg\" alt=\"Open In Colab\"/></a>"
      ]
    },
    {
      "cell_type": "markdown",
      "source": [
        "* Nama : Alifiyul Akyun\n",
        "* No : 04\n",
        "* Kelas : TI-3B\n",
        "* NIM : 2041720036"
      ],
      "metadata": {
        "id": "tCYaoF8mP0qi"
      }
    },
    {
      "cell_type": "markdown",
      "source": [
        "1. Buka https://colab.research.google.com/. Setelah dipastikan bahwa google Colab terhubung\n",
        "dengan Github Anda, buat notebook baru dan beri nama \"Week12.ipynb\". Kemudian import\n",
        "beberapa library dan akses folder yang ada di Drive Anda dengan seperti biasa."
      ],
      "metadata": {
        "id": "jDOp-GJOSqvu"
      }
    },
    {
      "cell_type": "code",
      "source": [
        "\n",
        "from google.colab import drive\n",
        "drive.mount('/content/drive/')\n",
        "     "
      ],
      "metadata": {
        "colab": {
          "base_uri": "https://localhost:8080/"
        },
        "id": "syyD-3S5R44x",
        "outputId": "4582533f-560f-4eae-8879-2c8c5ea1196b"
      },
      "execution_count": 2,
      "outputs": [
        {
          "output_type": "stream",
          "name": "stdout",
          "text": [
            "Mounted at /content/drive/\n"
          ]
        }
      ]
    },
    {
      "cell_type": "code",
      "source": [
        "import cv2 as cv\n",
        "import numpy as np\n",
        "from matplotlib import pyplot as plt\n",
        "from google.colab.patches import cv2_imshow"
      ],
      "metadata": {
        "id": "wYwF02NaP6Cc"
      },
      "execution_count": 3,
      "outputs": []
    },
    {
      "cell_type": "markdown",
      "source": [
        "2. Lakukan Face Detection untuk image object lain yang tersedia pada (/images/facedet).\n",
        "Tampilkan seperti pada contoh berikut. Perhatikan pada hasil face detection dibawah ini.\n",
        "Secara keseluruhan, face detection dapat dilakukan dengan baik, bahkan untuk image berupa\n",
        "gambar bukan foto, wajah bermasker, atau wajah yang berukuran kecil (solvay)."
      ],
      "metadata": {
        "id": "qYJfcGnVSjTz"
      }
    },
    {
      "cell_type": "code",
      "source": [],
      "metadata": {
        "id": "l2gDQY-GRzwX"
      },
      "execution_count": null,
      "outputs": []
    }
  ]
}