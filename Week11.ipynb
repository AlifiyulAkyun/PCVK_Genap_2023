{
  "nbformat": 4,
  "nbformat_minor": 0,
  "metadata": {
    "colab": {
      "provenance": [],
      "authorship_tag": "ABX9TyNIrPgZ0Uv8xUoMBMl9CGJI",
      "include_colab_link": true
    },
    "kernelspec": {
      "name": "python3",
      "display_name": "Python 3"
    },
    "language_info": {
      "name": "python"
    }
  },
  "cells": [
    {
      "cell_type": "markdown",
      "metadata": {
        "id": "view-in-github",
        "colab_type": "text"
      },
      "source": [
        "<a href=\"https://colab.research.google.com/github/AlifiyulAkyun/PCVK_Genap_2023/blob/main/Week11.ipynb\" target=\"_parent\"><img src=\"https://colab.research.google.com/assets/colab-badge.svg\" alt=\"Open In Colab\"/></a>"
      ]
    },
    {
      "cell_type": "markdown",
      "source": [
        "* Nama : Alifiyul Akyun \n",
        "* Kelas : TI-3B\n",
        "* No : 04\n",
        "* Materi : Object Detection"
      ],
      "metadata": {
        "id": "QYLAMpMeticM"
      }
    },
    {
      "cell_type": "code",
      "source": [
        "#akses drive\n",
        "from google.colab import drive\n",
        "drive.mount('/content/drive')"
      ],
      "metadata": {
        "colab": {
          "base_uri": "https://localhost:8080/"
        },
        "id": "BuyxIyP3tyjO",
        "outputId": "aeba766a-c029-4d89-9207-346bf18f60cd"
      },
      "execution_count": 1,
      "outputs": [
        {
          "output_type": "stream",
          "name": "stdout",
          "text": [
            "Mounted at /content/drive\n"
          ]
        }
      ]
    },
    {
      "cell_type": "code",
      "source": [
        "#import library yang dibutuhkan\n",
        "import cv2 as cv\n",
        "import numpy as np\n",
        "from matplotlib import pyplot as plt"
      ],
      "metadata": {
        "id": "mIDZjJo6t106"
      },
      "execution_count": 2,
      "outputs": []
    },
    {
      "cell_type": "markdown",
      "source": [],
      "metadata": {
        "id": "Aq3dmwHju2we"
      }
    },
    {
      "cell_type": "markdown",
      "source": [
        "2. Implementasikan 6 metode template matching pada OpenCV dengan menggunakan\n",
        "gambar cats_and_bunnies.jpg dan cat2_templatejpg.jpg sebagai templatenya\n",
        "\n",
        "* Jawaban :"
      ],
      "metadata": {
        "id": "AFTcNC0Mu27I"
      }
    },
    {
      "cell_type": "markdown",
      "source": [
        "* TEMPLATE MATCHING\n",
        "\n",
        "* Menggunakan library opencv:\n",
        "\n",
        "* cv.matchTemplate(), dengan parameter:\n",
        "\n",
        "* Imange: citra input\n",
        "* templ: template yang dicari, ukurannya tidak boleh lebih besar dari citra input\n",
        "* method: metode dari tempte matching\n",
        "* Jenis metode template matching di opencv:\n",
        "\n",
        "* TM_SQDIFF\n",
        "* TM_SGDIFF_NORMED\n",
        "* TM_CCORR\n",
        "* TM_CCORR_NORMED\n",
        "* TM_CCOEFF\n",
        "* TM_CCOEFF_NORMED"
      ],
      "metadata": {
        "id": "av94A2kxu9Td"
      }
    },
    {
      "cell_type": "code",
      "source": [
        "bunny_cat = cv.imread('/content/drive/MyDrive/PCVK_AB/cats_and_bunnies.jpg')\n",
        "bunny_cat_gray = cv.cvtColor(bunny_cat, cv.COLOR_BGR2GRAY)\n",
        "image = bunny_cat.copy()\n",
        "\n",
        "cat = cv.imread('/content/drive/MyDrive/PCVK_AB/cat2_templatejpg.jpg',0)\n",
        "w, h = cat.shape[::-1]\n",
        "\n",
        "f, axarr = plt. subplots(1,2,figsize=(10,5)) #membuat 2 plot untuk citra input dan template \n",
        "axarr[0].imshow(cv.cvtColor(bunny_cat, cv.COLOR_BGR2RGB)), axarr[0].set_title(\"input image\") \n",
        "axarr[1].imshow(cv.cvtColor(cat, cv.COLOR_BGR2RGB)), axarr[1].set_title(\"template image\")\n",
        "\n",
        "# All the 6 methods for comparison in a list\n",
        "methods = ['cv.TM_CCOEFF', 'cv.TM_CCOEFF_NORMED', 'cv.TM_CCORR',\n",
        "            'cv.TM_CCORR_NORMED', 'cv.TM_SQDIFF', 'cv.TM_SQDIFF_NORMED']\n",
        "\n",
        "for meth in methods:\n",
        "    img = image.copy()\n",
        "    method = eval(meth)\n",
        "    # Apply template Matching\n",
        "    res = cv.matchTemplate(bunny_cat_gray,cat,method)\n",
        "    min_val, max_val, min_loc, max_loc = cv.minMaxLoc(res)\n",
        "    # If the method is TM_SQDIFF or TM_SQDIFF_NORMED, take minimum\n",
        "    if method in [cv.TM_SQDIFF, cv.TM_SQDIFF_NORMED]:\n",
        "        top_left = min_loc\n",
        "    else:\n",
        "        top_left = max_loc\n",
        "    bottom_right = (top_left[0] + w, top_left[1] + h)\n",
        "\n",
        "    cv.rectangle(img,top_left, bottom_right, 255, 2)\n",
        "    plt.figure(figsize=(10,5))\n",
        "    plt.subplot(121),plt.imshow(res,cmap = 'gray')\n",
        "    plt.title('Matching Result'), plt.xticks([]), plt.yticks([])\n",
        "    plt.subplot(122),plt.imshow(cv.cvtColor(img, cv.COLOR_BGR2RGB))\n",
        "    plt.title('Detected Point'), plt.xticks([]), plt.yticks([])\n",
        "    plt.suptitle(meth)\n",
        "    plt.show()"
      ],
      "metadata": {
        "id": "ZlUbStdduZ6l",
        "outputId": "239d4a8c-1a74-4ec6-eb14-485f3504a105",
        "colab": {
          "base_uri": "https://localhost:8080/",
          "height": 235
        }
      },
      "execution_count": 3,
      "outputs": [
        {
          "output_type": "error",
          "ename": "error",
          "evalue": "ignored",
          "traceback": [
            "\u001b[0;31m---------------------------------------------------------------------------\u001b[0m",
            "\u001b[0;31merror\u001b[0m                                     Traceback (most recent call last)",
            "\u001b[0;32m<ipython-input-3-40b512eaf6a8>\u001b[0m in \u001b[0;36m<cell line: 2>\u001b[0;34m()\u001b[0m\n\u001b[1;32m      1\u001b[0m \u001b[0mbunny_cat\u001b[0m \u001b[0;34m=\u001b[0m \u001b[0mcv\u001b[0m\u001b[0;34m.\u001b[0m\u001b[0mimread\u001b[0m\u001b[0;34m(\u001b[0m\u001b[0;34m'/content/drive/MyDrive/PCVK_AB/cats_and_bunnies.jpg'\u001b[0m\u001b[0;34m)\u001b[0m\u001b[0;34m\u001b[0m\u001b[0;34m\u001b[0m\u001b[0m\n\u001b[0;32m----> 2\u001b[0;31m \u001b[0mbunny_cat_gray\u001b[0m \u001b[0;34m=\u001b[0m \u001b[0mcv\u001b[0m\u001b[0;34m.\u001b[0m\u001b[0mcvtColor\u001b[0m\u001b[0;34m(\u001b[0m\u001b[0mbunny_cat\u001b[0m\u001b[0;34m,\u001b[0m \u001b[0mcv\u001b[0m\u001b[0;34m.\u001b[0m\u001b[0mCOLOR_BGR2GRAY\u001b[0m\u001b[0;34m)\u001b[0m\u001b[0;34m\u001b[0m\u001b[0;34m\u001b[0m\u001b[0m\n\u001b[0m\u001b[1;32m      3\u001b[0m \u001b[0mimage\u001b[0m \u001b[0;34m=\u001b[0m \u001b[0mbunny_cat\u001b[0m\u001b[0;34m.\u001b[0m\u001b[0mcopy\u001b[0m\u001b[0;34m(\u001b[0m\u001b[0;34m)\u001b[0m\u001b[0;34m\u001b[0m\u001b[0;34m\u001b[0m\u001b[0m\n\u001b[1;32m      4\u001b[0m \u001b[0;34m\u001b[0m\u001b[0m\n\u001b[1;32m      5\u001b[0m \u001b[0mcat\u001b[0m \u001b[0;34m=\u001b[0m \u001b[0mcv\u001b[0m\u001b[0;34m.\u001b[0m\u001b[0mimread\u001b[0m\u001b[0;34m(\u001b[0m\u001b[0;34m'/content/drive/MyDrive/PCVK_AB/cat2_templatejpg.jpg'\u001b[0m\u001b[0;34m,\u001b[0m\u001b[0;36m0\u001b[0m\u001b[0;34m)\u001b[0m\u001b[0;34m\u001b[0m\u001b[0;34m\u001b[0m\u001b[0m\n",
            "\u001b[0;31merror\u001b[0m: OpenCV(4.7.0) /io/opencv/modules/imgproc/src/color.cpp:182: error: (-215:Assertion failed) !_src.empty() in function 'cvtColor'\n"
          ]
        }
      ]
    },
    {
      "cell_type": "code",
      "source": [],
      "metadata": {
        "id": "D0c1GXGrvjY2"
      },
      "execution_count": null,
      "outputs": []
    }
  ]
}