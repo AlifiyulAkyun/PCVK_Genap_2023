{
  "nbformat": 4,
  "nbformat_minor": 0,
  "metadata": {
    "colab": {
      "provenance": [],
      "authorship_tag": "ABX9TyMjvRU/yB/4t5L2c4DAAQlG",
      "include_colab_link": true
    },
    "kernelspec": {
      "name": "python3",
      "display_name": "Python 3"
    },
    "language_info": {
      "name": "python"
    }
  },
  "cells": [
    {
      "cell_type": "markdown",
      "metadata": {
        "id": "view-in-github",
        "colab_type": "text"
      },
      "source": [
        "<a href=\"https://colab.research.google.com/github/AlifiyulAkyun/PCVK_Genap_2023/blob/main/Week7.ipynb\" target=\"_parent\"><img src=\"https://colab.research.google.com/assets/colab-badge.svg\" alt=\"Open In Colab\"/></a>"
      ]
    },
    {
      "cell_type": "markdown",
      "source": [
        "*   Nama  : Alifiyul Akyun\n",
        "*   No    : 04\n",
        "*   Kelas : TI-3B\n",
        "*   NIM   : 2041720036\n",
        "\n"
      ],
      "metadata": {
        "id": "QcfotnehXqn4"
      }
    },
    {
      "cell_type": "code",
      "source": [
        "from google.colab import drive\n",
        "\n",
        "drive.mount('/content/drive')"
      ],
      "metadata": {
        "colab": {
          "base_uri": "https://localhost:8080/"
        },
        "id": "6dponSfrXrTj",
        "outputId": "446c6a3b-22e5-4c05-fcc6-4362cb24fa6e"
      },
      "execution_count": null,
      "outputs": [
        {
          "output_type": "stream",
          "name": "stdout",
          "text": [
            "Mounted at /content/drive\n"
          ]
        }
      ]
    },
    {
      "cell_type": "code",
      "source": [
        "import numpy as np\n",
        "import matplotlib.pyplot as plt\n",
        "import cv2 as cv\n",
        "import math\n",
        "from google.colab.patches import cv2_imshow\n",
        "from PIL import Image as im"
      ],
      "metadata": {
        "id": "Xbl3zZVKXwrh"
      },
      "execution_count": null,
      "outputs": []
    },
    {
      "cell_type": "code",
      "source": [
        "img = cv.imread('/content/drive/MyDrive/PCVK/image/female.tiff')\n",
        "img_gray=cv.cvtColor(img,cv.COLOR_BGR2GRAY)"
      ],
      "metadata": {
        "id": "daMnIQIPYzbp"
      },
      "execution_count": null,
      "outputs": []
    },
    {
      "cell_type": "code",
      "source": [
        "\n",
        "# Fungsi untuk melakukan fungsi konvolusi secara manual\n",
        "def convolution2D(image, kernel, padding, strides):\n",
        "    # menjadikan korelasi silang dengan membalik matrik secara horizontal lalu vertical\n",
        "    kernel = np.flipud(np.fliplr(kernel))\n",
        "\n",
        "    # Mencari ukuran dari Kernel + Image + Padding\n",
        "    xKernShape = kernel.shape[0]\n",
        "    yKernShape = kernel.shape[1]\n",
        "    xImgShape = image.shape[0]\n",
        "    yImgShape = image.shape[1]\n",
        "\n",
        "    # Menetapkan ukuran hasil konvolution berdasarkan hasil pencarian ukuran\n",
        "    xOutput = int(((xImgShape - xKernShape + 2 * padding) / strides) + 1)\n",
        "    yOutput = int(((yImgShape - yKernShape + 2 * padding) / strides) + 1)\n",
        "    output = np.zeros((xOutput, yOutput))\n",
        "\n",
        "    # Menetapkan padding pada setiap sisi\n",
        "    if padding != 0:\n",
        "        imagePadded = np.zeros((image.shape[0] + padding*2, image.shape[1] + padding*2))\n",
        "        imagePadded[int(padding):int(-1 * padding), int(padding):int(-1 * padding)] = image\n",
        "        # print(imagePadded)\n",
        "    else:\n",
        "        imagePadded = image\n",
        "\n",
        "    # Perulangan untuk melakukan fungsi konvolusi\n",
        "    for y in range(image.shape[1]):\n",
        "        # pengkondisian jika memang telah sampai pada pada akhir batas y, dan akan keluar dari perulangan\n",
        "        if y > image.shape[1] - yKernShape:\n",
        "            break\n",
        "        # pengkondisian untuk memastikan  ukuran langkah setara dengan jumlah langkah yang ditentukan\n",
        "        if y % strides == 0:\n",
        "            for x in range(image.shape[0]):\n",
        "                # pengkondisian jika memang telah sampai akhir batas x, dan akan keluar dari perulangan\n",
        "                if x > image.shape[0] - xKernShape:\n",
        "                    break\n",
        "                try:\n",
        "                    # Melakukan rumus fungsi konvolusi jika x sudah dipindahkan oleh stride\n",
        "                    if x % strides == 0:\n",
        "                        output[x, y] = (kernel * imagePadded[x: x + xKernShape, y: y + yKernShape]).sum()\n",
        "                except:\n",
        "                    break\n",
        "\n",
        "    return output\n"
      ],
      "metadata": {
        "id": "gF8oxyOYaFkL"
      },
      "execution_count": 1,
      "outputs": []
    },
    {
      "cell_type": "code",
      "source": [],
      "metadata": {
        "id": "QwZaizULaP06"
      },
      "execution_count": null,
      "outputs": []
    }
  ]
}