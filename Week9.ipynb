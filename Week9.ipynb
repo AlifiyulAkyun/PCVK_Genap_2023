{
  "nbformat": 4,
  "nbformat_minor": 0,
  "metadata": {
    "colab": {
      "provenance": [],
      "toc_visible": true,
      "mount_file_id": "1hsHa18geE2siZF_6-mRc8Cicmk2Wztz2",
      "authorship_tag": "ABX9TyM4WFCrMuJDdv/R6S3INpLq",
      "include_colab_link": true
    },
    "kernelspec": {
      "name": "python3",
      "display_name": "Python 3"
    },
    "language_info": {
      "name": "python"
    }
  },
  "cells": [
    {
      "cell_type": "markdown",
      "metadata": {
        "id": "view-in-github",
        "colab_type": "text"
      },
      "source": [
        "<a href=\"https://colab.research.google.com/github/AlifiyulAkyun/PCVK_Genap_2023/blob/main/Week9.ipynb\" target=\"_parent\"><img src=\"https://colab.research.google.com/assets/colab-badge.svg\" alt=\"Open In Colab\"/></a>"
      ]
    },
    {
      "cell_type": "markdown",
      "source": [
        "* Nama : Alifiyul Akyun\n",
        "* No : 04\n",
        "* Kelas : TI-3B\n",
        "* NIM : 2041720036\n",
        "\n"
      ],
      "metadata": {
        "id": "TYfmAr0RNEnP"
      }
    },
    {
      "cell_type": "code",
      "source": [
        "from google.colab import drive\n",
        "drive.mount('/content/drive')"
      ],
      "metadata": {
        "colab": {
          "base_uri": "https://localhost:8080/"
        },
        "id": "Ase4fDAXNRAw",
        "outputId": "7cb618f5-f0cf-4def-aa0b-103e85ab8a92"
      },
      "execution_count": 4,
      "outputs": [
        {
          "output_type": "stream",
          "name": "stdout",
          "text": [
            "Drive already mounted at /content/drive; to attempt to forcibly remount, call drive.mount(\"/content/drive\", force_remount=True).\n"
          ]
        }
      ]
    },
    {
      "cell_type": "code",
      "source": [
        "import cv2\n",
        "import numpy as np\n",
        "import matplotlib.pyplot as plt\n",
        "from google.colab.patches import cv2_imshow"
      ],
      "metadata": {
        "id": "czhPIk4_NZDU"
      },
      "execution_count": 2,
      "outputs": []
    },
    {
      "cell_type": "markdown",
      "source": [
        "Buatlah fungsi dilasi serta tampilkan hasil dilasi pada citra dengan Structuring Element\n",
        "Dilasi (SED) berbentuk cross 3 x 3 tanpa menggunakan library morphology dari openCV, sehingga menghasilkan tampilan seperti di bawah ini: (Gunakan gambar morphology.png)"
      ],
      "metadata": {
        "id": "dMkjnsLNOH48"
      }
    },
    {
      "cell_type": "code",
      "source": [
        "# Dilasi tanpa library\n",
        "\n",
        "# Input image\n",
        "input_image = cv2.imread('/content/drive/MyDrive/PCVK_AB/morphology.png')\n",
        "input_image = cv2.cvtColor(input_image, cv2.COLOR_BGR2GRAY)\n",
        "\n",
        "# Membuat structured element berbentuk square 5x5\n",
        "se = np.ones((3,3))\n",
        "\n",
        "def morph_dilate(img, kernel):\n",
        "    # Menentukan baris dan kolom citra\n",
        "    rows = img.shape[0]\n",
        "    cols = img.shape[1]\n",
        "    dilate_img=np.zeros((rows,cols))\n",
        "\n",
        "    newimg=np.zeros((img.shape[0]+2,img.shape[1]+2))\n",
        "    newimg[1:-1,1:-1]=img\n",
        "    for x in range(0,rows-(kernel.shape[0]-1)):\n",
        "        for y in range(0,cols-kernel.shape[0]-1):\n",
        "            dilate_img[x,y]=np.max(se * newimg[x:x+kernel.shape[0],y:y+kernel.shape[0]])\n",
        "\n",
        "    return dilate_img\n",
        "\n",
        "# Citra hasil dilasi\n",
        "output_image = morph_dilate(input_image, se)\n",
        "\n",
        "# Membuat figure\n",
        "fig, axs = plt.subplots(1, 2, figsize=(9,5))\n",
        "\n",
        "# Menampilkan citra awal\n",
        "axs[0].set_title(\"Citra Awal\")\n",
        "axs[0].imshow(input_image, cmap='gray')\n",
        "\n",
        "# Menampilkan citra hasil dilasi\n",
        "axs[1].set_title(\"Citra Hasil Dilasi\")\n",
        "axs[1].imshow(output_image, cmap='gray')"
      ],
      "metadata": {
        "colab": {
          "base_uri": "https://localhost:8080/",
          "height": 235
        },
        "id": "_y6Ks4LyOIlH",
        "outputId": "70b4818b-177a-4d32-d0ad-cb99e9494ad2"
      },
      "execution_count": 3,
      "outputs": [
        {
          "output_type": "error",
          "ename": "error",
          "evalue": "ignored",
          "traceback": [
            "\u001b[0;31m---------------------------------------------------------------------------\u001b[0m",
            "\u001b[0;31merror\u001b[0m                                     Traceback (most recent call last)",
            "\u001b[0;32m<ipython-input-3-5f3bd0381581>\u001b[0m in \u001b[0;36m<cell line: 5>\u001b[0;34m()\u001b[0m\n\u001b[1;32m      3\u001b[0m \u001b[0;31m# Input image\u001b[0m\u001b[0;34m\u001b[0m\u001b[0;34m\u001b[0m\u001b[0m\n\u001b[1;32m      4\u001b[0m \u001b[0minput_image\u001b[0m \u001b[0;34m=\u001b[0m \u001b[0mcv2\u001b[0m\u001b[0;34m.\u001b[0m\u001b[0mimread\u001b[0m\u001b[0;34m(\u001b[0m\u001b[0;34m'/content/drive/MyDrive/PCVK_AB/morphology.png'\u001b[0m\u001b[0;34m)\u001b[0m\u001b[0;34m\u001b[0m\u001b[0;34m\u001b[0m\u001b[0m\n\u001b[0;32m----> 5\u001b[0;31m \u001b[0minput_image\u001b[0m \u001b[0;34m=\u001b[0m \u001b[0mcv2\u001b[0m\u001b[0;34m.\u001b[0m\u001b[0mcvtColor\u001b[0m\u001b[0;34m(\u001b[0m\u001b[0minput_image\u001b[0m\u001b[0;34m,\u001b[0m \u001b[0mcv2\u001b[0m\u001b[0;34m.\u001b[0m\u001b[0mCOLOR_BGR2GRAY\u001b[0m\u001b[0;34m)\u001b[0m\u001b[0;34m\u001b[0m\u001b[0;34m\u001b[0m\u001b[0m\n\u001b[0m\u001b[1;32m      6\u001b[0m \u001b[0;34m\u001b[0m\u001b[0m\n\u001b[1;32m      7\u001b[0m \u001b[0;31m# Membuat structured element berbentuk square 5x5\u001b[0m\u001b[0;34m\u001b[0m\u001b[0;34m\u001b[0m\u001b[0m\n",
            "\u001b[0;31merror\u001b[0m: OpenCV(4.7.0) /io/opencv/modules/imgproc/src/color.cpp:182: error: (-215:Assertion failed) !_src.empty() in function 'cvtColor'\n"
          ]
        }
      ]
    },
    {
      "cell_type": "code",
      "source": [],
      "metadata": {
        "id": "AwyvzAFSOOmi"
      },
      "execution_count": null,
      "outputs": []
    }
  ]
}