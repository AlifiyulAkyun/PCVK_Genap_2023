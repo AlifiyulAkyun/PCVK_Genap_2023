{
  "nbformat": 4,
  "nbformat_minor": 0,
  "metadata": {
    "colab": {
      "provenance": [],
      "authorship_tag": "ABX9TyMVSl5FiL4dEzqj3jCDwV/O",
      "include_colab_link": true
    },
    "kernelspec": {
      "name": "python3",
      "display_name": "Python 3"
    },
    "language_info": {
      "name": "python"
    }
  },
  "cells": [
    {
      "cell_type": "markdown",
      "metadata": {
        "id": "view-in-github",
        "colab_type": "text"
      },
      "source": [
        "<a href=\"https://colab.research.google.com/github/AlifiyulAkyun/PCVK_Genap_2023/blob/main/Week2.ipynb\" target=\"_parent\"><img src=\"https://colab.research.google.com/assets/colab-badge.svg\" alt=\"Open In Colab\"/></a>"
      ]
    },
    {
      "cell_type": "code",
      "execution_count": null,
      "metadata": {
        "id": "WUizSpzFR-T6"
      },
      "outputs": [],
      "source": []
    },
    {
      "cell_type": "markdown",
      "source": [
        "Nama : Alifiyul Akyun"
      ],
      "metadata": {
        "id": "xAVpT7ruSEom"
      }
    },
    {
      "cell_type": "code",
      "source": [],
      "metadata": {
        "id": "JZlj_oAKSIeM"
      },
      "execution_count": null,
      "outputs": []
    }
  ]
}