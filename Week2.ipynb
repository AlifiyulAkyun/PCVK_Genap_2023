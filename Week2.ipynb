{
  "nbformat": 4,
  "nbformat_minor": 0,
  "metadata": {
    "colab": {
      "provenance": [],
      "authorship_tag": "ABX9TyOkryAnT4g+HGTyN91+qYGy",
      "include_colab_link": true
    },
    "kernelspec": {
      "name": "python3",
      "display_name": "Python 3"
    },
    "language_info": {
      "name": "python"
    }
  },
  "cells": [
    {
      "cell_type": "markdown",
      "metadata": {
        "id": "view-in-github",
        "colab_type": "text"
      },
      "source": [
        "<a href=\"https://colab.research.google.com/github/AlifiyulAkyun/PCVK_Genap_2023/blob/main/Week2.ipynb\" target=\"_parent\"><img src=\"https://colab.research.google.com/assets/colab-badge.svg\" alt=\"Open In Colab\"/></a>"
      ]
    },
    {
      "cell_type": "markdown",
      "source": [
        "*   Nama  : Alifiyul Akyun\n",
        "*   No    : 04\n",
        "*   Kelas : TI-3B\n",
        "*   NIM   : 2041720036"
      ],
      "metadata": {
        "id": "BKGGmzS4TcYf"
      }
    },
    {
      "cell_type": "code",
      "source": [],
      "metadata": {
        "id": "ki_wt2nyTdAj"
      },
      "execution_count": null,
      "outputs": []
    }
  ]
}