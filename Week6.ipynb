{
  "nbformat": 4,
  "nbformat_minor": 0,
  "metadata": {
    "colab": {
      "provenance": [],
      "authorship_tag": "ABX9TyMqdDC7b1ZQZsz50PJqqrBy",
      "include_colab_link": true
    },
    "kernelspec": {
      "name": "python3",
      "display_name": "Python 3"
    },
    "language_info": {
      "name": "python"
    }
  },
  "cells": [
    {
      "cell_type": "markdown",
      "metadata": {
        "id": "view-in-github",
        "colab_type": "text"
      },
      "source": [
        "<a href=\"https://colab.research.google.com/github/AlifiyulAkyun/PCVK_Genap_2023/blob/main/Week6.ipynb\" target=\"_parent\"><img src=\"https://colab.research.google.com/assets/colab-badge.svg\" alt=\"Open In Colab\"/></a>"
      ]
    },
    {
      "cell_type": "markdown",
      "source": [
        "*   Nama  : Alifiyul Akyun\n",
        "*   No    : 04\n",
        "*   Kelas : TI-3B\n",
        "*   NIM   : 2041720036\n",
        "\n"
      ],
      "metadata": {
        "id": "v-dXxlyFmgxY"
      }
    },
    {
      "cell_type": "code",
      "source": [
        "from google.colab import drive\n",
        "\n",
        "drive.mount('/content/drive')"
      ],
      "metadata": {
        "colab": {
          "base_uri": "https://localhost:8080/"
        },
        "id": "FD09jb4emhhn",
        "outputId": "8aeff31a-6fd6-4696-ec12-c1b705de9bdc"
      },
      "execution_count": 1,
      "outputs": [
        {
          "output_type": "stream",
          "name": "stdout",
          "text": [
            "Mounted at /content/drive\n"
          ]
        }
      ]
    },
    {
      "cell_type": "code",
      "source": [
        "import cv2 as cv \n",
        "from google.colab.patches import cv2_imshow \n",
        "from skimage import io \n",
        "import matplotlib.pyplot as plt \n",
        "import numpy as np\n",
        "import math\n",
        "import os\n",
        "import glob\n",
        "     "
      ],
      "metadata": {
        "id": "AHjM7MtDm-Mb"
      },
      "execution_count": 2,
      "outputs": []
    },
    {
      "cell_type": "code",
      "source": [],
      "metadata": {
        "id": "TEglucPKoGOn"
      },
      "execution_count": null,
      "outputs": []
    }
  ]
}